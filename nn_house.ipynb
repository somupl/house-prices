{
 "cells": [
  {
   "cell_type": "code",
   "execution_count": 1,
   "metadata": {},
   "outputs": [],
   "source": [
    "import numpy as np\n",
    "import pandas as pd\n",
    "import matplotlib.pyplot as plt\n",
    "from tensorflow.keras.models import Sequential\n",
    "from tensorflow.keras.layers import Dense, Dropout\n",
    "from tensorflow.keras import optimizers\n",
    "from sklearn.preprocessing import StandardScaler\n",
    "from sklearn.model_selection import train_test_split\n",
    "from sklearn.linear_model import LinearRegression\n",
    "from sklearn.metrics import mean_squared_error\n",
    "import warnings\n",
    "warnings.filterwarnings('ignore')\n",
    "%matplotlib inline"
   ]
  },
  {
   "cell_type": "code",
   "execution_count": 2,
   "metadata": {},
   "outputs": [],
   "source": [
    "df = pd.read_csv('train.csv')\n",
    "df.YearBuilt = 2019 - df.YearBuilt"
   ]
  },
  {
   "cell_type": "code",
   "execution_count": 3,
   "metadata": {},
   "outputs": [],
   "source": [
    "X = df[['OverallQual', 'YearBuilt', 'TotalBsmtSF', 'GrLivArea']]\n",
    "y = np.log1p(df.SalePrice) # log transformation and avoiding log(0)\n",
    "X_train, X_test, y_train, y_test = train_test_split(X, y, test_size=0.33, random_state=42)"
   ]
  },
  {
   "cell_type": "code",
   "execution_count": 4,
   "metadata": {},
   "outputs": [],
   "source": [
    "scalar = StandardScaler().fit(X_train)\n",
    "X_train = scalar.transform(X_train)\n",
    "X_test = scalar.transform(X_test)"
   ]
  },
  {
   "cell_type": "code",
   "execution_count": 5,
   "metadata": {},
   "outputs": [
    {
     "data": {
      "text/plain": [
       "array([[-0.08733695,  0.26050401, -0.2754465 , -0.90140587],\n",
       "       [-0.81738431, -1.1709873 ,  0.13575922, -0.77524212],\n",
       "       [ 0.6427104 , -1.10591951,  1.24422683,  0.17289758],\n",
       "       [-0.81738431,  0.19543622,  0.03072298, -0.86508601],\n",
       "       [-0.81738431, -0.09736882,  0.73692411, -0.26102926]])"
      ]
     },
     "execution_count": 5,
     "metadata": {},
     "output_type": "execute_result"
    }
   ],
   "source": [
    "X_train[0:5]"
   ]
  },
  {
   "cell_type": "code",
   "execution_count": 6,
   "metadata": {},
   "outputs": [
    {
     "data": {
      "text/plain": [
       "0.1673044503161907"
      ]
     },
     "execution_count": 6,
     "metadata": {},
     "output_type": "execute_result"
    }
   ],
   "source": [
    "regression = LinearRegression().fit(X_train, y_train)\n",
    "np.sqrt(mean_squared_error(y_test, regression.predict(X_test)))"
   ]
  },
  {
   "cell_type": "code",
   "execution_count": 7,
   "metadata": {},
   "outputs": [
    {
     "data": {
      "text/plain": [
       "30789.771343033535"
      ]
     },
     "execution_count": 7,
     "metadata": {},
     "output_type": "execute_result"
    }
   ],
   "source": [
    "np.sqrt(np.mean((np.exp(y_test) - np.exp(regression.predict(X_test)))**2))"
   ]
  },
  {
   "cell_type": "code",
   "execution_count": 42,
   "metadata": {},
   "outputs": [],
   "source": [
    "model = Sequential()\n",
    "# pick neurons based on power of 2. \n",
    "# 4 inputs, 1 outputs\n",
    "model.add(Dense(units=4,activation='relu',input_shape=(4,),name='L1'))\n",
    "model.add(Dense(units=2,activation='relu',name='L2'))\n",
    "model.add(Dense(units=1,activation='linear',name='Output'))"
   ]
  },
  {
   "cell_type": "code",
   "execution_count": 43,
   "metadata": {},
   "outputs": [
    {
     "name": "stdout",
     "output_type": "stream",
     "text": [
      "Model: \"sequential_6\"\n",
      "_________________________________________________________________\n",
      "Layer (type)                 Output Shape              Param #   \n",
      "=================================================================\n",
      "L1 (Dense)                   (None, 4)                 20        \n",
      "_________________________________________________________________\n",
      "L2 (Dense)                   (None, 2)                 10        \n",
      "_________________________________________________________________\n",
      "Output (Dense)               (None, 1)                 3         \n",
      "=================================================================\n",
      "Total params: 33\n",
      "Trainable params: 33\n",
      "Non-trainable params: 0\n",
      "_________________________________________________________________\n"
     ]
    }
   ],
   "source": [
    "opt = optimizers.SGD()\n",
    "model.compile(loss='mse', optimizer=opt, metrics=['mse'])\n",
    "model.summary()"
   ]
  },
  {
   "cell_type": "code",
   "execution_count": 44,
   "metadata": {},
   "outputs": [
    {
     "data": {
      "image/png": "[encoded data removed]",
      "text/plain": [
       "<Figure size 864x504 with 1 Axes>"
      ]
     },
     "metadata": {
      "needs_background": "light"
     },
     "output_type": "display_data"
    }
   ],
   "source": [
    "history = model.fit(X_train, y_train, epochs=2000, batch_size=100, verbose=0, validation_split=0.3, shuffle=True)\n",
    "plt.figure(figsize=(12, 7))\n",
    "plt.plot(history.epoch, history.history['mse'], color='purple', alpha=0.5, label='train')\n",
    "plt.plot(history.epoch, history.history['val_mse'], color='green', alpha=0.5, label='validation')\n",
    "plt.xlabel('epochs')\n",
    "plt.ylabel('mse')\n",
    "\n",
    "plt.legend()\n",
    "plt.show()"
   ]
  },
  {
   "cell_type": "code",
   "execution_count": 46,
   "metadata": {},
   "outputs": [
    {
     "data": {
      "text/plain": [
       "0.030080401955987136"
      ]
     },
     "execution_count": 46,
     "metadata": {},
     "output_type": "execute_result"
    }
   ],
   "source": [
    "mean_squared_error(y_test,model.predict(X_test))"
   ]
  },
  {
   "cell_type": "code",
   "execution_count": 47,
   "metadata": {},
   "outputs": [
    {
     "data": {
      "text/plain": [
       "36489.855443547385"
      ]
     },
     "execution_count": 47,
     "metadata": {},
     "output_type": "execute_result"
    }
   ],
   "source": [
    "np.sqrt(np.mean((np.exp(y_test) - np.squeeze(np.exp(model.predict(X_test))))**2))"
   ]
  },
  {
   "cell_type": "code",
   "execution_count": 13,
   "metadata": {},
   "outputs": [],
   "source": [
    "# col_names = ['TotalBsmtSF', 'GrLivArea']\n",
    "# features = X_train[col_names]\n",
    "# scalar = StandardScaler().fit(features.values)\n",
    "# X_train_scale = scalar.transform(features.values)\n",
    "# X_train[col_names] = X_train_scale\n",
    "# features = X_test[col_names]\n",
    "# X_test_scale = scalar.transform(features.values)\n",
    "# X_test[col_names] = X_test_scale"
   ]
  },
  {
   "cell_type": "code",
   "execution_count": null,
   "metadata": {},
   "outputs": [],
   "source": []
  }
 ],
 "metadata": {
  "kernelspec": {
   "display_name": "Python 3",
   "language": "python",
   "name": "python3"
  },
  "language_info": {
   "codemirror_mode": {
    "name": "ipython",
    "version": 3
   },
   "file_extension": ".py",
   "mimetype": "text/x-python",
   "name": "python",
   "nbconvert_exporter": "python",
   "pygments_lexer": "ipython3",
   "version": "3.7.1"
  }
 },
 "nbformat": 4,
 "nbformat_minor": 2
}
